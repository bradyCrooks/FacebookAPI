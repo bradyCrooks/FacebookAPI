{
 "cells": [
  {
   "cell_type": "code",
   "execution_count": null,
   "metadata": {
    "collapsed": true
   },
   "outputs": [],
   "source": [
    "from facepy import GraphAPI"
   ]
  },
  {
   "cell_type": "code",
   "execution_count": null,
   "metadata": {},
   "outputs": [],
   "source": [
    "graph = GraphAPI()\n",
    "\n",
    "graph.get('/Piccolino.Alderley.Edge?fields=about,category,can_checkin,food_styles,global_brand_page_name,hours,is_permanently_closed,link,location,name,name_with_location_descriptor,phone,overall_star_rating,rating_count,restaurant_services,restaurant_specialties,username,website')\n"
   ]
  },
  {
   "cell_type": "code",
   "execution_count": null,
   "metadata": {},
   "outputs": [],
   "source": [
    "output=graph.get('search?q=restaurant&type=page&type=place&center=53.48,-2.25&distance=16000&fields=about,category,can_checkin,food_styles,global_brand_page_name,hours,is_permanently_closed,link,location,name,name_with_location_descriptor,phone,overall_star_rating,rating_count,restaurant_services,restaurant_specialties,username,website')"
   ]
  },
  {
   "cell_type": "code",
   "execution_count": null,
   "metadata": {},
   "outputs": [],
   "source": [
    "output"
   ]
  },
  {
   "cell_type": "code",
   "execution_count": null,
   "metadata": {},
   "outputs": [],
   "source": [
    "import pandas as pd\n",
    "df=pd.DataFrame()\n",
    "res = list()\n",
    "for i in range(len(output[\"data\"])):\n",
    "    try:\n",
    "        open_times=output['data'][i]['hours']\n",
    "        #print(open_times)\n",
    "    except KeyError:\n",
    "        continue\n",
    "        \n",
    "    for key, item in open_times.items():\n",
    "        #df[key]=[item]\n",
    "        print(key + \" \" + item)\n",
    "        #res.append(item)"
   ]
  },
  {
   "cell_type": "code",
   "execution_count": null,
   "metadata": {},
   "outputs": [],
   "source": [
    "import pandas as pd\n",
    "df=pd.DataFrame()\n",
    "res = list()\n",
    "for i in range(len(output[\"data\"])):\n",
    "    row = list()\n",
    "    try:\n",
    "        open_times=output['data'][i]['hours']\n",
    "        for i in open_times.keys():\n",
    "            row.append(open_times[i])\n",
    "        #row.append(open_times.values())\n",
    "    except KeyError:\n",
    "        row.append(0)\n",
    "    \n",
    "    res.append(row)\n",
    "        "
   ]
  },
  {
   "cell_type": "code",
   "execution_count": null,
   "metadata": {},
   "outputs": [],
   "source": [
    "res[0]"
   ]
  },
  {
   "cell_type": "code",
   "execution_count": null,
   "metadata": {},
   "outputs": [],
   "source": [
    "times=[]\n",
    "headings=[]\n",
    "for key, item in open_times.items():\n",
    "    times.append(item)\n",
    "    headings.append(key)\n",
    "    df[key]=[item]"
   ]
  },
  {
   "cell_type": "code",
   "execution_count": null,
   "metadata": {
    "collapsed": true
   },
   "outputs": [],
   "source": [
    "import pandas as pd\n",
    "df=pd.DataFrame(columns=headings)"
   ]
  }
 ],
 "metadata": {
  "kernelspec": {
   "display_name": "Python 3",
   "language": "python",
   "name": "python3"
  },
  "language_info": {
   "codemirror_mode": {
    "name": "ipython",
    "version": 3
   },
   "file_extension": ".py",
   "mimetype": "text/x-python",
   "name": "python",
   "nbconvert_exporter": "python",
   "pygments_lexer": "ipython3",
   "version": "3.6.1"
  }
 },
 "nbformat": 4,
 "nbformat_minor": 2
}
