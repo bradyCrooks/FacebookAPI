{
 "cells": [
  {
   "cell_type": "code",
   "execution_count": 10,
   "metadata": {
    "collapsed": true
   },
   "outputs": [],
   "source": [
    "from facepy import GraphAPI"
   ]
  },
  {
   "cell_type": "code",
   "execution_count": 29,
   "metadata": {},
   "outputs": [
    {
     "data": {
      "text/plain": [
       "{'about': 'Italy’s diverse cooking is the heart and soul of Piccolino. Sourcing the best quality ingredients, we bring you amazing classic Italian dishes.',\n",
       " 'headers': {'x-app-usage': '{\"call_count\":9,\"total_cputime\":4,\"total_time\":7}', 'Expires': 'Sat, 01 Jan 2000 00:00:00 GMT', 'x-fb-trace-id': 'CL/upZXRa1B', 'facebook-api-version': 'v2.4', 'Content-Type': 'application/json; charset=UTF-8', 'x-fb-rev': '3263713', 'Cache-Control': 'private, no-cache, no-store, must-revalidate', 'Pragma': 'no-cache', 'ETag': '\"a4cf85c3d5b6257335f27005d1da73d7dcfa07db\"', 'Access-Control-Allow-Origin': '*', 'Vary': 'Accept-Encoding', 'Content-Encoding': 'gzip', 'X-FB-Debug': 'M1/3WEOF0zWQrxi5HbsSiKTYrIkYr3djSDvZ9CiQJMwpxIIqy3kArX3YpW2UOpep/tSyZzPoTmHI5H1jxvMj5g==', 'Date': 'Wed, 30 Aug 2017 10:45:34 GMT', 'Connection': 'keep-alive', 'Content-Length': '167'},\n",
       " 'id': '1631575417067246'}"
      ]
     },
     "execution_count": 29,
     "metadata": {},
     "output_type": "execute_result"
    }
   ],
   "source": [
    "\n",
    "\n",
    "# Initialize the Graph API with a valid access token (optional,\n",
    "# but will allow you to do all sorts of fun stuff).\n",
    "graph = GraphAPI('<put access code here>')\n",
    "\n",
    "graph.get('<insert facebook handle >'?fields=about')\n"
   ]
  },
  {
   "cell_type": "code",
   "execution_count": null,
   "metadata": {
    "collapsed": true
   },
   "outputs": [],
   "source": []
  }
 ],
 "metadata": {
  "kernelspec": {
   "display_name": "Python 3",
   "language": "python",
   "name": "python3"
  },
  "language_info": {
   "codemirror_mode": {
    "name": "ipython",
    "version": 3
   },
   "file_extension": ".py",
   "mimetype": "text/x-python",
   "name": "python",
   "nbconvert_exporter": "python",
   "pygments_lexer": "ipython3",
   "version": "3.6.1"
  }
 },
 "nbformat": 4,
 "nbformat_minor": 2
}
